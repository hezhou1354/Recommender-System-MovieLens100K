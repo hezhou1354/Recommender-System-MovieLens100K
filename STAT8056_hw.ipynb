{
  "nbformat": 4,
  "nbformat_minor": 0,
  "metadata": {
    "colab": {
      "name": "STAT8056-hw",
      "provenance": [],
      "collapsed_sections": []
    },
    "kernelspec": {
      "name": "python3",
      "display_name": "Python 3"
    },
    "language_info": {
      "name": "python"
    },
    "accelerator": "GPU"
  },
  "cells": [
    {
      "cell_type": "code",
      "execution_count": 16,
      "metadata": {
        "colab": {
          "base_uri": "https://localhost:8080/"
        },
        "id": "dWmmReEkRS1V",
        "outputId": "cfb01f63-2770-4936-91ac-9713eb5ac912"
      },
      "outputs": [
        {
          "output_type": "stream",
          "name": "stdout",
          "text": [
            "Drive already mounted at /content/gdrive; to attempt to forcibly remount, call drive.mount(\"/content/gdrive\", force_remount=True).\n"
          ]
        }
      ],
      "source": [
        "from google.colab import drive\n",
        "drive.mount('/content/gdrive')\n",
        "input_dir = '/content/gdrive/MyDrive/STAT8056/ml-100k/'\n",
        "output_dir = '/content/gdrive/MyDrive/STAT8056/MF_model/'"
      ]
    },
    {
      "cell_type": "code",
      "source": [
        "import pandas as pd \n",
        "import numpy as np\n",
        "import math\n",
        "\n",
        "import matplotlib.pyplot as plt\n",
        "import matplotlib.ticker as ticker\n",
        "import seaborn as sns\n",
        "from matplotlib.lines import Line2D\n",
        "\n",
        "from itertools import zip_longest\n",
        "import copy\n",
        "\n",
        "import os\n",
        "from tqdm import tqdm\n",
        "from sklearn.model_selection import train_test_split"
      ],
      "metadata": {
        "id": "4P1UQglPWW_P"
      },
      "execution_count": 2,
      "outputs": []
    },
    {
      "cell_type": "markdown",
      "source": [
        "# Load Data"
      ],
      "metadata": {
        "id": "VAO65MJQRptg"
      }
    },
    {
      "cell_type": "code",
      "source": [
        "# Load the u.user file into a dataframe\n",
        "u_cols =  ['user_id', 'age', 'sex', 'occupation', 'zip_code']\n",
        "users = pd.read_csv(os.path.join(input_dir, 'u.user'), \n",
        "                    sep='|', \n",
        "                    names=u_cols,\n",
        "                    encoding='latin-1')\n",
        "\n",
        "n_users = users.shape[0]\n",
        "print('Number of users:', n_users)\n",
        "users.head(5)"
      ],
      "metadata": {
        "colab": {
          "base_uri": "https://localhost:8080/",
          "height": 221
        },
        "id": "3PpYNil8Sp8Z",
        "outputId": "31562a81-f104-405b-82bd-45de3e5d0571"
      },
      "execution_count": 18,
      "outputs": [
        {
          "output_type": "stream",
          "name": "stdout",
          "text": [
            "Number of users: 943\n"
          ]
        },
        {
          "output_type": "execute_result",
          "data": {
            "text/plain": [
              "   user_id  age sex  occupation zip_code\n",
              "0        1   24   M  technician    85711\n",
              "1        2   53   F       other    94043\n",
              "2        3   23   M      writer    32067\n",
              "3        4   24   M  technician    43537\n",
              "4        5   33   F       other    15213"
            ],
            "text/html": [
              "\n",
              "  <div id=\"df-8aca6c19-dc1e-4510-bcd9-262bda031a87\">\n",
              "    <div class=\"colab-df-container\">\n",
              "      <div>\n",
              "<style scoped>\n",
              "    .dataframe tbody tr th:only-of-type {\n",
              "        vertical-align: middle;\n",
              "    }\n",
              "\n",
              "    .dataframe tbody tr th {\n",
              "        vertical-align: top;\n",
              "    }\n",
              "\n",
              "    .dataframe thead th {\n",
              "        text-align: right;\n",
              "    }\n",
              "</style>\n",
              "<table border=\"1\" class=\"dataframe\">\n",
              "  <thead>\n",
              "    <tr style=\"text-align: right;\">\n",
              "      <th></th>\n",
              "      <th>user_id</th>\n",
              "      <th>age</th>\n",
              "      <th>sex</th>\n",
              "      <th>occupation</th>\n",
              "      <th>zip_code</th>\n",
              "    </tr>\n",
              "  </thead>\n",
              "  <tbody>\n",
              "    <tr>\n",
              "      <th>0</th>\n",
              "      <td>1</td>\n",
              "      <td>24</td>\n",
              "      <td>M</td>\n",
              "      <td>technician</td>\n",
              "      <td>85711</td>\n",
              "    </tr>\n",
              "    <tr>\n",
              "      <th>1</th>\n",
              "      <td>2</td>\n",
              "      <td>53</td>\n",
              "      <td>F</td>\n",
              "      <td>other</td>\n",
              "      <td>94043</td>\n",
              "    </tr>\n",
              "    <tr>\n",
              "      <th>2</th>\n",
              "      <td>3</td>\n",
              "      <td>23</td>\n",
              "      <td>M</td>\n",
              "      <td>writer</td>\n",
              "      <td>32067</td>\n",
              "    </tr>\n",
              "    <tr>\n",
              "      <th>3</th>\n",
              "      <td>4</td>\n",
              "      <td>24</td>\n",
              "      <td>M</td>\n",
              "      <td>technician</td>\n",
              "      <td>43537</td>\n",
              "    </tr>\n",
              "    <tr>\n",
              "      <th>4</th>\n",
              "      <td>5</td>\n",
              "      <td>33</td>\n",
              "      <td>F</td>\n",
              "      <td>other</td>\n",
              "      <td>15213</td>\n",
              "    </tr>\n",
              "  </tbody>\n",
              "</table>\n",
              "</div>\n",
              "      <button class=\"colab-df-convert\" onclick=\"convertToInteractive('df-8aca6c19-dc1e-4510-bcd9-262bda031a87')\"\n",
              "              title=\"Convert this dataframe to an interactive table.\"\n",
              "              style=\"display:none;\">\n",
              "        \n",
              "  <svg xmlns=\"http://www.w3.org/2000/svg\" height=\"24px\"viewBox=\"0 0 24 24\"\n",
              "       width=\"24px\">\n",
              "    <path d=\"M0 0h24v24H0V0z\" fill=\"none\"/>\n",
              "    <path d=\"M18.56 5.44l.94 2.06.94-2.06 2.06-.94-2.06-.94-.94-2.06-.94 2.06-2.06.94zm-11 1L8.5 8.5l.94-2.06 2.06-.94-2.06-.94L8.5 2.5l-.94 2.06-2.06.94zm10 10l.94 2.06.94-2.06 2.06-.94-2.06-.94-.94-2.06-.94 2.06-2.06.94z\"/><path d=\"M17.41 7.96l-1.37-1.37c-.4-.4-.92-.59-1.43-.59-.52 0-1.04.2-1.43.59L10.3 9.45l-7.72 7.72c-.78.78-.78 2.05 0 2.83L4 21.41c.39.39.9.59 1.41.59.51 0 1.02-.2 1.41-.59l7.78-7.78 2.81-2.81c.8-.78.8-2.07 0-2.86zM5.41 20L4 18.59l7.72-7.72 1.47 1.35L5.41 20z\"/>\n",
              "  </svg>\n",
              "      </button>\n",
              "      \n",
              "  <style>\n",
              "    .colab-df-container {\n",
              "      display:flex;\n",
              "      flex-wrap:wrap;\n",
              "      gap: 12px;\n",
              "    }\n",
              "\n",
              "    .colab-df-convert {\n",
              "      background-color: #E8F0FE;\n",
              "      border: none;\n",
              "      border-radius: 50%;\n",
              "      cursor: pointer;\n",
              "      display: none;\n",
              "      fill: #1967D2;\n",
              "      height: 32px;\n",
              "      padding: 0 0 0 0;\n",
              "      width: 32px;\n",
              "    }\n",
              "\n",
              "    .colab-df-convert:hover {\n",
              "      background-color: #E2EBFA;\n",
              "      box-shadow: 0px 1px 2px rgba(60, 64, 67, 0.3), 0px 1px 3px 1px rgba(60, 64, 67, 0.15);\n",
              "      fill: #174EA6;\n",
              "    }\n",
              "\n",
              "    [theme=dark] .colab-df-convert {\n",
              "      background-color: #3B4455;\n",
              "      fill: #D2E3FC;\n",
              "    }\n",
              "\n",
              "    [theme=dark] .colab-df-convert:hover {\n",
              "      background-color: #434B5C;\n",
              "      box-shadow: 0px 1px 3px 1px rgba(0, 0, 0, 0.15);\n",
              "      filter: drop-shadow(0px 1px 2px rgba(0, 0, 0, 0.3));\n",
              "      fill: #FFFFFF;\n",
              "    }\n",
              "  </style>\n",
              "\n",
              "      <script>\n",
              "        const buttonEl =\n",
              "          document.querySelector('#df-8aca6c19-dc1e-4510-bcd9-262bda031a87 button.colab-df-convert');\n",
              "        buttonEl.style.display =\n",
              "          google.colab.kernel.accessAllowed ? 'block' : 'none';\n",
              "\n",
              "        async function convertToInteractive(key) {\n",
              "          const element = document.querySelector('#df-8aca6c19-dc1e-4510-bcd9-262bda031a87');\n",
              "          const dataTable =\n",
              "            await google.colab.kernel.invokeFunction('convertToInteractive',\n",
              "                                                     [key], {});\n",
              "          if (!dataTable) return;\n",
              "\n",
              "          const docLinkHtml = 'Like what you see? Visit the ' +\n",
              "            '<a target=\"_blank\" href=https://colab.research.google.com/notebooks/data_table.ipynb>data table notebook</a>'\n",
              "            + ' to learn more about interactive tables.';\n",
              "          element.innerHTML = '';\n",
              "          dataTable['output_type'] = 'display_data';\n",
              "          await google.colab.output.renderOutput(dataTable, element);\n",
              "          const docLink = document.createElement('div');\n",
              "          docLink.innerHTML = docLinkHtml;\n",
              "          element.appendChild(docLink);\n",
              "        }\n",
              "      </script>\n",
              "    </div>\n",
              "  </div>\n",
              "  "
            ]
          },
          "metadata": {},
          "execution_count": 18
        }
      ]
    },
    {
      "cell_type": "code",
      "source": [
        "# Load the u.items file into a dataframe\n",
        "i_cols = ['movie id', 'movie title' ,\n",
        "          'release date','video release date', 'IMDb URL', \n",
        "          'unknown', 'Action', 'Adventure', 'Animation', \n",
        "          'Children\\'s', 'Comedy', 'Crime', 'Documentary', \n",
        "          'Drama', 'Fantasy', 'Film-Noir', 'Horror', \n",
        "          'Musical', 'Mystery', 'Romance', 'Sci-Fi', \n",
        "          'Thriller', 'War', 'Western']\n",
        "movies = pd.read_csv(os.path.join(input_dir, 'u.item'), \n",
        "                     sep='|', \n",
        "                     names=i_cols,\n",
        "                     encoding='latin-1')\n",
        "\n",
        "n_movies = movies.shape[0]\n",
        "print(\"Number of movies:\",n_movies)\n",
        "\n",
        "# Remove 'release date', 'video release date' and 'IMDb URL'\n",
        "movies.drop(movies.columns[[2, 3, 4]], axis = 1, inplace=True)\n",
        "movies.head(5)"
      ],
      "metadata": {
        "colab": {
          "base_uri": "https://localhost:8080/",
          "height": 250
        },
        "id": "4S4NWnCRVBNQ",
        "outputId": "dce71a57-e228-48bd-e545-3840d6adfc6b"
      },
      "execution_count": 19,
      "outputs": [
        {
          "output_type": "stream",
          "name": "stdout",
          "text": [
            "Number of movies: 1682\n"
          ]
        },
        {
          "output_type": "execute_result",
          "data": {
            "text/plain": [
              "   movie id        movie title  unknown  Action  Adventure  Animation  \\\n",
              "0         1   Toy Story (1995)        0       0          0          1   \n",
              "1         2   GoldenEye (1995)        0       1          1          0   \n",
              "2         3  Four Rooms (1995)        0       0          0          0   \n",
              "3         4  Get Shorty (1995)        0       1          0          0   \n",
              "4         5     Copycat (1995)        0       0          0          0   \n",
              "\n",
              "   Children's  Comedy  Crime  Documentary  ...  Fantasy  Film-Noir  Horror  \\\n",
              "0           1       1      0            0  ...        0          0       0   \n",
              "1           0       0      0            0  ...        0          0       0   \n",
              "2           0       0      0            0  ...        0          0       0   \n",
              "3           0       1      0            0  ...        0          0       0   \n",
              "4           0       0      1            0  ...        0          0       0   \n",
              "\n",
              "   Musical  Mystery  Romance  Sci-Fi  Thriller  War  Western  \n",
              "0        0        0        0       0         0    0        0  \n",
              "1        0        0        0       0         1    0        0  \n",
              "2        0        0        0       0         1    0        0  \n",
              "3        0        0        0       0         0    0        0  \n",
              "4        0        0        0       0         1    0        0  \n",
              "\n",
              "[5 rows x 21 columns]"
            ],
            "text/html": [
              "\n",
              "  <div id=\"df-23dfebc1-e535-45b6-a721-1f6c2a66dca9\">\n",
              "    <div class=\"colab-df-container\">\n",
              "      <div>\n",
              "<style scoped>\n",
              "    .dataframe tbody tr th:only-of-type {\n",
              "        vertical-align: middle;\n",
              "    }\n",
              "\n",
              "    .dataframe tbody tr th {\n",
              "        vertical-align: top;\n",
              "    }\n",
              "\n",
              "    .dataframe thead th {\n",
              "        text-align: right;\n",
              "    }\n",
              "</style>\n",
              "<table border=\"1\" class=\"dataframe\">\n",
              "  <thead>\n",
              "    <tr style=\"text-align: right;\">\n",
              "      <th></th>\n",
              "      <th>movie id</th>\n",
              "      <th>movie title</th>\n",
              "      <th>unknown</th>\n",
              "      <th>Action</th>\n",
              "      <th>Adventure</th>\n",
              "      <th>Animation</th>\n",
              "      <th>Children's</th>\n",
              "      <th>Comedy</th>\n",
              "      <th>Crime</th>\n",
              "      <th>Documentary</th>\n",
              "      <th>...</th>\n",
              "      <th>Fantasy</th>\n",
              "      <th>Film-Noir</th>\n",
              "      <th>Horror</th>\n",
              "      <th>Musical</th>\n",
              "      <th>Mystery</th>\n",
              "      <th>Romance</th>\n",
              "      <th>Sci-Fi</th>\n",
              "      <th>Thriller</th>\n",
              "      <th>War</th>\n",
              "      <th>Western</th>\n",
              "    </tr>\n",
              "  </thead>\n",
              "  <tbody>\n",
              "    <tr>\n",
              "      <th>0</th>\n",
              "      <td>1</td>\n",
              "      <td>Toy Story (1995)</td>\n",
              "      <td>0</td>\n",
              "      <td>0</td>\n",
              "      <td>0</td>\n",
              "      <td>1</td>\n",
              "      <td>1</td>\n",
              "      <td>1</td>\n",
              "      <td>0</td>\n",
              "      <td>0</td>\n",
              "      <td>...</td>\n",
              "      <td>0</td>\n",
              "      <td>0</td>\n",
              "      <td>0</td>\n",
              "      <td>0</td>\n",
              "      <td>0</td>\n",
              "      <td>0</td>\n",
              "      <td>0</td>\n",
              "      <td>0</td>\n",
              "      <td>0</td>\n",
              "      <td>0</td>\n",
              "    </tr>\n",
              "    <tr>\n",
              "      <th>1</th>\n",
              "      <td>2</td>\n",
              "      <td>GoldenEye (1995)</td>\n",
              "      <td>0</td>\n",
              "      <td>1</td>\n",
              "      <td>1</td>\n",
              "      <td>0</td>\n",
              "      <td>0</td>\n",
              "      <td>0</td>\n",
              "      <td>0</td>\n",
              "      <td>0</td>\n",
              "      <td>...</td>\n",
              "      <td>0</td>\n",
              "      <td>0</td>\n",
              "      <td>0</td>\n",
              "      <td>0</td>\n",
              "      <td>0</td>\n",
              "      <td>0</td>\n",
              "      <td>0</td>\n",
              "      <td>1</td>\n",
              "      <td>0</td>\n",
              "      <td>0</td>\n",
              "    </tr>\n",
              "    <tr>\n",
              "      <th>2</th>\n",
              "      <td>3</td>\n",
              "      <td>Four Rooms (1995)</td>\n",
              "      <td>0</td>\n",
              "      <td>0</td>\n",
              "      <td>0</td>\n",
              "      <td>0</td>\n",
              "      <td>0</td>\n",
              "      <td>0</td>\n",
              "      <td>0</td>\n",
              "      <td>0</td>\n",
              "      <td>...</td>\n",
              "      <td>0</td>\n",
              "      <td>0</td>\n",
              "      <td>0</td>\n",
              "      <td>0</td>\n",
              "      <td>0</td>\n",
              "      <td>0</td>\n",
              "      <td>0</td>\n",
              "      <td>1</td>\n",
              "      <td>0</td>\n",
              "      <td>0</td>\n",
              "    </tr>\n",
              "    <tr>\n",
              "      <th>3</th>\n",
              "      <td>4</td>\n",
              "      <td>Get Shorty (1995)</td>\n",
              "      <td>0</td>\n",
              "      <td>1</td>\n",
              "      <td>0</td>\n",
              "      <td>0</td>\n",
              "      <td>0</td>\n",
              "      <td>1</td>\n",
              "      <td>0</td>\n",
              "      <td>0</td>\n",
              "      <td>...</td>\n",
              "      <td>0</td>\n",
              "      <td>0</td>\n",
              "      <td>0</td>\n",
              "      <td>0</td>\n",
              "      <td>0</td>\n",
              "      <td>0</td>\n",
              "      <td>0</td>\n",
              "      <td>0</td>\n",
              "      <td>0</td>\n",
              "      <td>0</td>\n",
              "    </tr>\n",
              "    <tr>\n",
              "      <th>4</th>\n",
              "      <td>5</td>\n",
              "      <td>Copycat (1995)</td>\n",
              "      <td>0</td>\n",
              "      <td>0</td>\n",
              "      <td>0</td>\n",
              "      <td>0</td>\n",
              "      <td>0</td>\n",
              "      <td>0</td>\n",
              "      <td>1</td>\n",
              "      <td>0</td>\n",
              "      <td>...</td>\n",
              "      <td>0</td>\n",
              "      <td>0</td>\n",
              "      <td>0</td>\n",
              "      <td>0</td>\n",
              "      <td>0</td>\n",
              "      <td>0</td>\n",
              "      <td>0</td>\n",
              "      <td>1</td>\n",
              "      <td>0</td>\n",
              "      <td>0</td>\n",
              "    </tr>\n",
              "  </tbody>\n",
              "</table>\n",
              "<p>5 rows × 21 columns</p>\n",
              "</div>\n",
              "      <button class=\"colab-df-convert\" onclick=\"convertToInteractive('df-23dfebc1-e535-45b6-a721-1f6c2a66dca9')\"\n",
              "              title=\"Convert this dataframe to an interactive table.\"\n",
              "              style=\"display:none;\">\n",
              "        \n",
              "  <svg xmlns=\"http://www.w3.org/2000/svg\" height=\"24px\"viewBox=\"0 0 24 24\"\n",
              "       width=\"24px\">\n",
              "    <path d=\"M0 0h24v24H0V0z\" fill=\"none\"/>\n",
              "    <path d=\"M18.56 5.44l.94 2.06.94-2.06 2.06-.94-2.06-.94-.94-2.06-.94 2.06-2.06.94zm-11 1L8.5 8.5l.94-2.06 2.06-.94-2.06-.94L8.5 2.5l-.94 2.06-2.06.94zm10 10l.94 2.06.94-2.06 2.06-.94-2.06-.94-.94-2.06-.94 2.06-2.06.94z\"/><path d=\"M17.41 7.96l-1.37-1.37c-.4-.4-.92-.59-1.43-.59-.52 0-1.04.2-1.43.59L10.3 9.45l-7.72 7.72c-.78.78-.78 2.05 0 2.83L4 21.41c.39.39.9.59 1.41.59.51 0 1.02-.2 1.41-.59l7.78-7.78 2.81-2.81c.8-.78.8-2.07 0-2.86zM5.41 20L4 18.59l7.72-7.72 1.47 1.35L5.41 20z\"/>\n",
              "  </svg>\n",
              "      </button>\n",
              "      \n",
              "  <style>\n",
              "    .colab-df-container {\n",
              "      display:flex;\n",
              "      flex-wrap:wrap;\n",
              "      gap: 12px;\n",
              "    }\n",
              "\n",
              "    .colab-df-convert {\n",
              "      background-color: #E8F0FE;\n",
              "      border: none;\n",
              "      border-radius: 50%;\n",
              "      cursor: pointer;\n",
              "      display: none;\n",
              "      fill: #1967D2;\n",
              "      height: 32px;\n",
              "      padding: 0 0 0 0;\n",
              "      width: 32px;\n",
              "    }\n",
              "\n",
              "    .colab-df-convert:hover {\n",
              "      background-color: #E2EBFA;\n",
              "      box-shadow: 0px 1px 2px rgba(60, 64, 67, 0.3), 0px 1px 3px 1px rgba(60, 64, 67, 0.15);\n",
              "      fill: #174EA6;\n",
              "    }\n",
              "\n",
              "    [theme=dark] .colab-df-convert {\n",
              "      background-color: #3B4455;\n",
              "      fill: #D2E3FC;\n",
              "    }\n",
              "\n",
              "    [theme=dark] .colab-df-convert:hover {\n",
              "      background-color: #434B5C;\n",
              "      box-shadow: 0px 1px 3px 1px rgba(0, 0, 0, 0.15);\n",
              "      filter: drop-shadow(0px 1px 2px rgba(0, 0, 0, 0.3));\n",
              "      fill: #FFFFFF;\n",
              "    }\n",
              "  </style>\n",
              "\n",
              "      <script>\n",
              "        const buttonEl =\n",
              "          document.querySelector('#df-23dfebc1-e535-45b6-a721-1f6c2a66dca9 button.colab-df-convert');\n",
              "        buttonEl.style.display =\n",
              "          google.colab.kernel.accessAllowed ? 'block' : 'none';\n",
              "\n",
              "        async function convertToInteractive(key) {\n",
              "          const element = document.querySelector('#df-23dfebc1-e535-45b6-a721-1f6c2a66dca9');\n",
              "          const dataTable =\n",
              "            await google.colab.kernel.invokeFunction('convertToInteractive',\n",
              "                                                     [key], {});\n",
              "          if (!dataTable) return;\n",
              "\n",
              "          const docLinkHtml = 'Like what you see? Visit the ' +\n",
              "            '<a target=\"_blank\" href=https://colab.research.google.com/notebooks/data_table.ipynb>data table notebook</a>'\n",
              "            + ' to learn more about interactive tables.';\n",
              "          element.innerHTML = '';\n",
              "          dataTable['output_type'] = 'display_data';\n",
              "          await google.colab.output.renderOutput(dataTable, element);\n",
              "          const docLink = document.createElement('div');\n",
              "          docLink.innerHTML = docLinkHtml;\n",
              "          element.appendChild(docLink);\n",
              "        }\n",
              "      </script>\n",
              "    </div>\n",
              "  </div>\n",
              "  "
            ]
          },
          "metadata": {},
          "execution_count": 19
        }
      ]
    },
    {
      "cell_type": "code",
      "source": [
        "# Load the u.data file into a dataframe\n",
        "r_cols = ['user_id', 'movie_id', 'rating', 'unix_timestamp']\n",
        "\n",
        "ratings = pd.read_csv(os.path.join(input_dir, 'u.data'), \n",
        "                      sep='\\t', \n",
        "                      names=r_cols, \n",
        "                      encoding='latin-1')\n",
        "n_ratings = ratings.shape[0]\n",
        "print('Number of rates:', n_ratings)\n",
        "\n",
        "# Drop the 'timestamp' column\n",
        "ratings = ratings.drop('unix_timestamp', axis=1)\n",
        "ratings.head(5)"
      ],
      "metadata": {
        "colab": {
          "base_uri": "https://localhost:8080/",
          "height": 221
        },
        "id": "9iqWB8hHUdOY",
        "outputId": "76d1bb57-db11-4a0e-f66d-5ce2807ab504"
      },
      "execution_count": 21,
      "outputs": [
        {
          "output_type": "stream",
          "name": "stdout",
          "text": [
            "Number of rates: 100000\n"
          ]
        },
        {
          "output_type": "execute_result",
          "data": {
            "text/plain": [
              "   user_id  movie_id  rating\n",
              "0      196       242       3\n",
              "1      186       302       3\n",
              "2       22       377       1\n",
              "3      244        51       2\n",
              "4      166       346       1"
            ],
            "text/html": [
              "\n",
              "  <div id=\"df-b38e0bfd-27b8-4121-b878-f83fcef677e7\">\n",
              "    <div class=\"colab-df-container\">\n",
              "      <div>\n",
              "<style scoped>\n",
              "    .dataframe tbody tr th:only-of-type {\n",
              "        vertical-align: middle;\n",
              "    }\n",
              "\n",
              "    .dataframe tbody tr th {\n",
              "        vertical-align: top;\n",
              "    }\n",
              "\n",
              "    .dataframe thead th {\n",
              "        text-align: right;\n",
              "    }\n",
              "</style>\n",
              "<table border=\"1\" class=\"dataframe\">\n",
              "  <thead>\n",
              "    <tr style=\"text-align: right;\">\n",
              "      <th></th>\n",
              "      <th>user_id</th>\n",
              "      <th>movie_id</th>\n",
              "      <th>rating</th>\n",
              "    </tr>\n",
              "  </thead>\n",
              "  <tbody>\n",
              "    <tr>\n",
              "      <th>0</th>\n",
              "      <td>196</td>\n",
              "      <td>242</td>\n",
              "      <td>3</td>\n",
              "    </tr>\n",
              "    <tr>\n",
              "      <th>1</th>\n",
              "      <td>186</td>\n",
              "      <td>302</td>\n",
              "      <td>3</td>\n",
              "    </tr>\n",
              "    <tr>\n",
              "      <th>2</th>\n",
              "      <td>22</td>\n",
              "      <td>377</td>\n",
              "      <td>1</td>\n",
              "    </tr>\n",
              "    <tr>\n",
              "      <th>3</th>\n",
              "      <td>244</td>\n",
              "      <td>51</td>\n",
              "      <td>2</td>\n",
              "    </tr>\n",
              "    <tr>\n",
              "      <th>4</th>\n",
              "      <td>166</td>\n",
              "      <td>346</td>\n",
              "      <td>1</td>\n",
              "    </tr>\n",
              "  </tbody>\n",
              "</table>\n",
              "</div>\n",
              "      <button class=\"colab-df-convert\" onclick=\"convertToInteractive('df-b38e0bfd-27b8-4121-b878-f83fcef677e7')\"\n",
              "              title=\"Convert this dataframe to an interactive table.\"\n",
              "              style=\"display:none;\">\n",
              "        \n",
              "  <svg xmlns=\"http://www.w3.org/2000/svg\" height=\"24px\"viewBox=\"0 0 24 24\"\n",
              "       width=\"24px\">\n",
              "    <path d=\"M0 0h24v24H0V0z\" fill=\"none\"/>\n",
              "    <path d=\"M18.56 5.44l.94 2.06.94-2.06 2.06-.94-2.06-.94-.94-2.06-.94 2.06-2.06.94zm-11 1L8.5 8.5l.94-2.06 2.06-.94-2.06-.94L8.5 2.5l-.94 2.06-2.06.94zm10 10l.94 2.06.94-2.06 2.06-.94-2.06-.94-.94-2.06-.94 2.06-2.06.94z\"/><path d=\"M17.41 7.96l-1.37-1.37c-.4-.4-.92-.59-1.43-.59-.52 0-1.04.2-1.43.59L10.3 9.45l-7.72 7.72c-.78.78-.78 2.05 0 2.83L4 21.41c.39.39.9.59 1.41.59.51 0 1.02-.2 1.41-.59l7.78-7.78 2.81-2.81c.8-.78.8-2.07 0-2.86zM5.41 20L4 18.59l7.72-7.72 1.47 1.35L5.41 20z\"/>\n",
              "  </svg>\n",
              "      </button>\n",
              "      \n",
              "  <style>\n",
              "    .colab-df-container {\n",
              "      display:flex;\n",
              "      flex-wrap:wrap;\n",
              "      gap: 12px;\n",
              "    }\n",
              "\n",
              "    .colab-df-convert {\n",
              "      background-color: #E8F0FE;\n",
              "      border: none;\n",
              "      border-radius: 50%;\n",
              "      cursor: pointer;\n",
              "      display: none;\n",
              "      fill: #1967D2;\n",
              "      height: 32px;\n",
              "      padding: 0 0 0 0;\n",
              "      width: 32px;\n",
              "    }\n",
              "\n",
              "    .colab-df-convert:hover {\n",
              "      background-color: #E2EBFA;\n",
              "      box-shadow: 0px 1px 2px rgba(60, 64, 67, 0.3), 0px 1px 3px 1px rgba(60, 64, 67, 0.15);\n",
              "      fill: #174EA6;\n",
              "    }\n",
              "\n",
              "    [theme=dark] .colab-df-convert {\n",
              "      background-color: #3B4455;\n",
              "      fill: #D2E3FC;\n",
              "    }\n",
              "\n",
              "    [theme=dark] .colab-df-convert:hover {\n",
              "      background-color: #434B5C;\n",
              "      box-shadow: 0px 1px 3px 1px rgba(0, 0, 0, 0.15);\n",
              "      filter: drop-shadow(0px 1px 2px rgba(0, 0, 0, 0.3));\n",
              "      fill: #FFFFFF;\n",
              "    }\n",
              "  </style>\n",
              "\n",
              "      <script>\n",
              "        const buttonEl =\n",
              "          document.querySelector('#df-b38e0bfd-27b8-4121-b878-f83fcef677e7 button.colab-df-convert');\n",
              "        buttonEl.style.display =\n",
              "          google.colab.kernel.accessAllowed ? 'block' : 'none';\n",
              "\n",
              "        async function convertToInteractive(key) {\n",
              "          const element = document.querySelector('#df-b38e0bfd-27b8-4121-b878-f83fcef677e7');\n",
              "          const dataTable =\n",
              "            await google.colab.kernel.invokeFunction('convertToInteractive',\n",
              "                                                     [key], {});\n",
              "          if (!dataTable) return;\n",
              "\n",
              "          const docLinkHtml = 'Like what you see? Visit the ' +\n",
              "            '<a target=\"_blank\" href=https://colab.research.google.com/notebooks/data_table.ipynb>data table notebook</a>'\n",
              "            + ' to learn more about interactive tables.';\n",
              "          element.innerHTML = '';\n",
              "          dataTable['output_type'] = 'display_data';\n",
              "          await google.colab.output.renderOutput(dataTable, element);\n",
              "          const docLink = document.createElement('div');\n",
              "          docLink.innerHTML = docLinkHtml;\n",
              "          element.appendChild(docLink);\n",
              "        }\n",
              "      </script>\n",
              "    </div>\n",
              "  </div>\n",
              "  "
            ]
          },
          "metadata": {},
          "execution_count": 21
        }
      ]
    },
    {
      "cell_type": "markdown",
      "source": [
        "# Data Exploration"
      ],
      "metadata": {
        "id": "VjumMwqLo09_"
      }
    },
    {
      "cell_type": "code",
      "source": [
        "# Histogram of no. of ratings per user\n",
        "userRatingGroup = ratings.groupby(\"user_id\")['rating'].count()\n",
        "\n",
        "f, ax = plt.subplots(figsize=(10,6.5))\n",
        "userRatingGroup.hist(bins=100, color='blue', edgecolor='black',\n",
        "                     linewidth=1.25, alpha=0.8, ax=ax)\n",
        "ax.set_xlabel('No. of ratings per user')\n",
        "ax.set_ylabel('Frequency')\n",
        "ax.set_xlim(0.0)\n",
        "ax.set_xticklabels(['{:,}'.format(int(x)) for x in ax.get_xticks().tolist()])\n",
        "ax.set_yticklabels(['{:,}'.format(int(x)) for x in ax.get_yticks().tolist()])\n",
        "plt.show()"
      ],
      "metadata": {
        "colab": {
          "base_uri": "https://localhost:8080/",
          "height": 415
        },
        "id": "n7p3n-rpo4jN",
        "outputId": "e16a431a-939d-4128-a4e4-ce42a6e66414"
      },
      "execution_count": 22,
      "outputs": [
        {
          "output_type": "display_data",
          "data": {
            "text/plain": [
              "<Figure size 720x468 with 1 Axes>"
            ],
            "image/png": "[encoded data removed]"
          },
          "metadata": {
            "needs_background": "light"
          }
        }
      ]
    },
    {
      "cell_type": "code",
      "source": [
        "# Histogram of no. of ratings per movie\n",
        "movieRatingGroup = ratings.groupby(\"movie_id\")['rating'].count()\n",
        "\n",
        "f, ax = plt.subplots(figsize=(10,6.5))\n",
        "movieRatingGroup.hist(bins=100, color='blue', edgecolor='black',\n",
        "                      linewidth=1.25, alpha=0.8, ax=ax)\n",
        "ax.set_xlabel('No. of ratings per movie')\n",
        "ax.set_ylabel('Frequency')\n",
        "ax.set_xlim(0.0)\n",
        "ax.set_xticklabels(['{:,}'.format(int(x)) for x in ax.get_xticks().tolist()])\n",
        "ax.set_yticklabels(['{:,}'.format(int(x)) for x in ax.get_yticks().tolist()])\n",
        "plt.show()"
      ],
      "metadata": {
        "colab": {
          "base_uri": "https://localhost:8080/",
          "height": 415
        },
        "id": "h8siS34LqmJr",
        "outputId": "bae7a1d5-8c34-42aa-f560-58793cc14981"
      },
      "execution_count": 23,
      "outputs": [
        {
          "output_type": "display_data",
          "data": {
            "text/plain": [
              "<Figure size 720x468 with 1 Axes>"
            ],
            "image/png": "[encoded data removed]"
          },
          "metadata": {
            "needs_background": "light"
          }
        }
      ]
    },
    {
      "cell_type": "code",
      "source": [
        "# Rating distribution\n",
        "movieRatingDistGroup = ratings['rating'].value_counts() \\\n",
        "                                        .sort_index() \\\n",
        "                                        .reset_index() \\\n",
        "                                        #.to_pandas()\n",
        "\n",
        "\n",
        "fig, ax = plt.subplots(figsize=(10,6.5))\n",
        "sns.barplot(data=movieRatingDistGroup, x='index', y='rating',\n",
        "            palette='RdYlGn', edgecolor=\"black\", ax=ax)\n",
        "ax.set_xlabel(\"User-movie ratings\")\n",
        "ax.set_ylabel('Percentage of users')\n",
        "ax.xaxis.set_tick_params()\n",
        "ax.set_yticklabels(['{:,}'.format(int(x)) for x in ax.get_yticks().tolist()])\n",
        "\n",
        "total = float(movieRatingDistGroup['rating'].sum())\n",
        "for p in ax.patches:\n",
        "    height = p.get_height()\n",
        "    ax.text(p.get_x()+p.get_width()/2.,\n",
        "            height+350,\n",
        "            '{0:.0%}'.format(height/total),\n",
        "            ha=\"center\") \n",
        "\n",
        "plt.show()"
      ],
      "metadata": {
        "colab": {
          "base_uri": "https://localhost:8080/",
          "height": 415
        },
        "id": "r1qh9cxAq77t",
        "outputId": "18a503f0-31b4-4f02-bcee-5a6192ff12fb"
      },
      "execution_count": 24,
      "outputs": [
        {
          "output_type": "display_data",
          "data": {
            "text/plain": [
              "<Figure size 720x468 with 1 Axes>"
            ],
            "image/png": "[encoded data removed]"
          },
          "metadata": {
            "needs_background": "light"
          }
        }
      ]
    },
    {
      "cell_type": "code",
      "source": [
        "# Scatterplot: Mean of rating v.s. number of rating\n",
        "movieRatingGroupMean = ratings.groupby(\"movie_id\")['rating'].mean()\n",
        "\n",
        "fig, ax = plt.subplots(figsize=(10,6.5))\n",
        "ax.scatter(movieRatingGroup, movieRatingGroupMean, alpha=0.5)\n",
        "ax.set_xlabel(\"Items' number of ratings\")\n",
        "ax.set_ylabel(\"Items' mean of ratings\")\n",
        "plt.show()"
      ],
      "metadata": {
        "colab": {
          "base_uri": "https://localhost:8080/",
          "height": 415
        },
        "id": "yXzhsAFWsWyp",
        "outputId": "e3a5b6ca-d591-4ebd-bbaf-4a48fa7c2ac8"
      },
      "execution_count": 25,
      "outputs": [
        {
          "output_type": "display_data",
          "data": {
            "text/plain": [
              "<Figure size 720x468 with 1 Axes>"
            ],
            "image/png": "[encoded data removed]"
          },
          "metadata": {
            "needs_background": "light"
          }
        }
      ]
    },
    {
      "cell_type": "markdown",
      "source": [
        "# Keras Matrix Factorization NN"
      ],
      "metadata": {
        "id": "k18QFqy5zD_5"
      }
    },
    {
      "cell_type": "code",
      "source": [
        "from sklearn.model_selection import train_test_split\n",
        "from sklearn.model_selection import KFold\n",
        "from sklearn.metrics import accuracy_score,precision_score,recall_score,confusion_matrix,roc_curve,roc_auc_score\n",
        "from sklearn.metrics import mean_squared_error\n",
        "from sklearn.model_selection import GridSearchCV\n",
        "from sklearn.preprocessing import LabelEncoder\n",
        "\n",
        "import tensorflow as tf\n",
        "import keras \n",
        "from keras import backend as K\n",
        "from keras.models import Model\n",
        "from keras.layers import Dense, Dropout, Flatten, Activation, Input, Embedding\n",
        "from keras.layers.merge import dot\n",
        "\n",
        "from tensorflow.keras.optimizers import Adam, SGD, Adagrad\n",
        "from tensorflow.keras import regularizers\n",
        "from tensorflow.keras.utils import to_categorical"
      ],
      "metadata": {
        "id": "cnHEuFdOf2fb"
      },
      "execution_count": 26,
      "outputs": []
    },
    {
      "cell_type": "code",
      "source": [
        "# 5-fold cross validtion\n",
        "k = 1\n",
        "ratings_base = pd.read_csv(os.path.join(input_dir, f'u{k}.base'), \n",
        "                           sep='\\t', \n",
        "                           names=r_cols, \n",
        "                           encoding='latin-1')\n",
        "ratings_test = pd.read_csv(os.path.join(input_dir, f'u{k}.test'), \n",
        "                           sep='\\t', \n",
        "                           names=r_cols, \n",
        "                           encoding='latin-1')\n",
        "\n",
        "ratings_base = ratings_base.drop('unix_timestamp', axis=1)\n",
        "ratings_test = ratings_test.drop('unix_timestamp', axis=1)\n",
        "\n",
        "print('Number of rates in base set:', ratings_base.shape[0])\n",
        "print('Number of rates in test set:', ratings_test.shape[0])\n",
        "ratings_test.head(5)"
      ],
      "metadata": {
        "id": "x_p6MVnc9hCz",
        "colab": {
          "base_uri": "https://localhost:8080/",
          "height": 238
        },
        "outputId": "f0b9ea7f-dcaf-461b-e67f-9015ec492b47"
      },
      "execution_count": 27,
      "outputs": [
        {
          "output_type": "stream",
          "name": "stdout",
          "text": [
            "Number of rates in base set: 80000\n",
            "Number of rates in test set: 20000\n"
          ]
        },
        {
          "output_type": "execute_result",
          "data": {
            "text/plain": [
              "   user_id  movie_id  rating\n",
              "0        1         6       5\n",
              "1        1        10       3\n",
              "2        1        12       5\n",
              "3        1        14       5\n",
              "4        1        17       3"
            ],
            "text/html": [
              "\n",
              "  <div id=\"df-b9e82cab-c663-4f9d-9dd5-12a1dde73436\">\n",
              "    <div class=\"colab-df-container\">\n",
              "      <div>\n",
              "<style scoped>\n",
              "    .dataframe tbody tr th:only-of-type {\n",
              "        vertical-align: middle;\n",
              "    }\n",
              "\n",
              "    .dataframe tbody tr th {\n",
              "        vertical-align: top;\n",
              "    }\n",
              "\n",
              "    .dataframe thead th {\n",
              "        text-align: right;\n",
              "    }\n",
              "</style>\n",
              "<table border=\"1\" class=\"dataframe\">\n",
              "  <thead>\n",
              "    <tr style=\"text-align: right;\">\n",
              "      <th></th>\n",
              "      <th>user_id</th>\n",
              "      <th>movie_id</th>\n",
              "      <th>rating</th>\n",
              "    </tr>\n",
              "  </thead>\n",
              "  <tbody>\n",
              "    <tr>\n",
              "      <th>0</th>\n",
              "      <td>1</td>\n",
              "      <td>6</td>\n",
              "      <td>5</td>\n",
              "    </tr>\n",
              "    <tr>\n",
              "      <th>1</th>\n",
              "      <td>1</td>\n",
              "      <td>10</td>\n",
              "      <td>3</td>\n",
              "    </tr>\n",
              "    <tr>\n",
              "      <th>2</th>\n",
              "      <td>1</td>\n",
              "      <td>12</td>\n",
              "      <td>5</td>\n",
              "    </tr>\n",
              "    <tr>\n",
              "      <th>3</th>\n",
              "      <td>1</td>\n",
              "      <td>14</td>\n",
              "      <td>5</td>\n",
              "    </tr>\n",
              "    <tr>\n",
              "      <th>4</th>\n",
              "      <td>1</td>\n",
              "      <td>17</td>\n",
              "      <td>3</td>\n",
              "    </tr>\n",
              "  </tbody>\n",
              "</table>\n",
              "</div>\n",
              "      <button class=\"colab-df-convert\" onclick=\"convertToInteractive('df-b9e82cab-c663-4f9d-9dd5-12a1dde73436')\"\n",
              "              title=\"Convert this dataframe to an interactive table.\"\n",
              "              style=\"display:none;\">\n",
              "        \n",
              "  <svg xmlns=\"http://www.w3.org/2000/svg\" height=\"24px\"viewBox=\"0 0 24 24\"\n",
              "       width=\"24px\">\n",
              "    <path d=\"M0 0h24v24H0V0z\" fill=\"none\"/>\n",
              "    <path d=\"M18.56 5.44l.94 2.06.94-2.06 2.06-.94-2.06-.94-.94-2.06-.94 2.06-2.06.94zm-11 1L8.5 8.5l.94-2.06 2.06-.94-2.06-.94L8.5 2.5l-.94 2.06-2.06.94zm10 10l.94 2.06.94-2.06 2.06-.94-2.06-.94-.94-2.06-.94 2.06-2.06.94z\"/><path d=\"M17.41 7.96l-1.37-1.37c-.4-.4-.92-.59-1.43-.59-.52 0-1.04.2-1.43.59L10.3 9.45l-7.72 7.72c-.78.78-.78 2.05 0 2.83L4 21.41c.39.39.9.59 1.41.59.51 0 1.02-.2 1.41-.59l7.78-7.78 2.81-2.81c.8-.78.8-2.07 0-2.86zM5.41 20L4 18.59l7.72-7.72 1.47 1.35L5.41 20z\"/>\n",
              "  </svg>\n",
              "      </button>\n",
              "      \n",
              "  <style>\n",
              "    .colab-df-container {\n",
              "      display:flex;\n",
              "      flex-wrap:wrap;\n",
              "      gap: 12px;\n",
              "    }\n",
              "\n",
              "    .colab-df-convert {\n",
              "      background-color: #E8F0FE;\n",
              "      border: none;\n",
              "      border-radius: 50%;\n",
              "      cursor: pointer;\n",
              "      display: none;\n",
              "      fill: #1967D2;\n",
              "      height: 32px;\n",
              "      padding: 0 0 0 0;\n",
              "      width: 32px;\n",
              "    }\n",
              "\n",
              "    .colab-df-convert:hover {\n",
              "      background-color: #E2EBFA;\n",
              "      box-shadow: 0px 1px 2px rgba(60, 64, 67, 0.3), 0px 1px 3px 1px rgba(60, 64, 67, 0.15);\n",
              "      fill: #174EA6;\n",
              "    }\n",
              "\n",
              "    [theme=dark] .colab-df-convert {\n",
              "      background-color: #3B4455;\n",
              "      fill: #D2E3FC;\n",
              "    }\n",
              "\n",
              "    [theme=dark] .colab-df-convert:hover {\n",
              "      background-color: #434B5C;\n",
              "      box-shadow: 0px 1px 3px 1px rgba(0, 0, 0, 0.15);\n",
              "      filter: drop-shadow(0px 1px 2px rgba(0, 0, 0, 0.3));\n",
              "      fill: #FFFFFF;\n",
              "    }\n",
              "  </style>\n",
              "\n",
              "      <script>\n",
              "        const buttonEl =\n",
              "          document.querySelector('#df-b9e82cab-c663-4f9d-9dd5-12a1dde73436 button.colab-df-convert');\n",
              "        buttonEl.style.display =\n",
              "          google.colab.kernel.accessAllowed ? 'block' : 'none';\n",
              "\n",
              "        async function convertToInteractive(key) {\n",
              "          const element = document.querySelector('#df-b9e82cab-c663-4f9d-9dd5-12a1dde73436');\n",
              "          const dataTable =\n",
              "            await google.colab.kernel.invokeFunction('convertToInteractive',\n",
              "                                                     [key], {});\n",
              "          if (!dataTable) return;\n",
              "\n",
              "          const docLinkHtml = 'Like what you see? Visit the ' +\n",
              "            '<a target=\"_blank\" href=https://colab.research.google.com/notebooks/data_table.ipynb>data table notebook</a>'\n",
              "            + ' to learn more about interactive tables.';\n",
              "          element.innerHTML = '';\n",
              "          dataTable['output_type'] = 'display_data';\n",
              "          await google.colab.output.renderOutput(dataTable, element);\n",
              "          const docLink = document.createElement('div');\n",
              "          docLink.innerHTML = docLinkHtml;\n",
              "          element.appendChild(docLink);\n",
              "        }\n",
              "      </script>\n",
              "    </div>\n",
              "  </div>\n",
              "  "
            ]
          },
          "metadata": {},
          "execution_count": 27
        }
      ]
    },
    {
      "cell_type": "code",
      "source": [
        "# # Saved for Group-Spesific Method in Matlab\n",
        "# np.savetxt(os.path.join(input_dir, f'u{k}_base.txt'), \n",
        "#            ratings_base.values, \n",
        "#            fmt=['%s', '%s', '%s'], \n",
        "#            delimiter=':')\n",
        "# np.savetxt(os.path.join(input_dir, f'u{k}_test.txt'), \n",
        "#            ratings_test.values, \n",
        "#            fmt=['%s', '%s', '%s'], delimiter=':')"
      ],
      "metadata": {
        "id": "XHrLGn4Vc7J9"
      },
      "execution_count": 28,
      "outputs": []
    },
    {
      "cell_type": "code",
      "source": [
        "# Randomly split the base set to 80% for training and 20% for validation\n",
        "split = np.random.rand(len(ratings_base)) < 0.8\n",
        "train = ratings_base[split]\n",
        "valid = ratings_base[~split]\n",
        "print(train.shape , valid.shape)"
      ],
      "metadata": {
        "colab": {
          "base_uri": "https://localhost:8080/"
        },
        "id": "V5WDCGa-e6dl",
        "outputId": "b3a0e1d9-a56b-415b-8c37-3f2ca251eeaf"
      },
      "execution_count": 29,
      "outputs": [
        {
          "output_type": "stream",
          "name": "stdout",
          "text": [
            "(63924, 3) (16076, 3)\n"
          ]
        }
      ]
    },
    {
      "cell_type": "markdown",
      "source": [
        "## Matrix Factorization with NN"
      ],
      "metadata": {
        "id": "E_nLjGlL5BLh"
      }
    },
    {
      "cell_type": "markdown",
      "source": [
        "### Build the model"
      ],
      "metadata": {
        "id": "OI2drmAyKQjP"
      }
    },
    {
      "cell_type": "code",
      "source": [
        "# Hyperparameters\n",
        "n_latent_factors=50\n",
        "dense_l2 = 1e-4 * 6\n",
        "min_rating = 1\n",
        "max_rating = 5\n",
        "user_dropout_rate = 0.4\n",
        "movie_dropout_rate = 0.4\n",
        "fc_layer = 96\n",
        "fc_dropout_rate = 0.4\n",
        "min_rating=1\n",
        "max_rating=5\n",
        "\n",
        "# define RMSE as the evaluation metric\n",
        "def rmse (y_true, y_pred):\n",
        "    return K.sqrt(K.mean(K.square(y_pred - y_true)))\n",
        "\n",
        "# User embedding with dropout\n",
        "user_input = Input(shape = (1,), \n",
        "                   name = 'user_input',\n",
        "                   dtype = 'int64')\n",
        "user_vec = Embedding(n_users, \n",
        "                     n_latent_factors, \n",
        "                     name = 'user_embedding')(user_input)\n",
        "user_vec = Flatten(name = 'FlattenUsers')(user_vec)\n",
        "user_vec = Dropout(user_dropout_rate, \n",
        "                   name = 'user_dropout')(user_vec)\n",
        "\n",
        "# Movie embedding with dropout\n",
        "movie_input = Input(shape = (1,), \n",
        "                    name = 'movie_input',\n",
        "                    dtype = 'int64')\n",
        "movie_vec = Embedding(n_movies, \n",
        "                      n_latent_factors,\n",
        "                      name = 'movie_embedding')(movie_input)\n",
        "movie_vec = Flatten(name = 'FlattenMovies')(movie_vec)\n",
        "movie_vec = Dropout(movie_dropout_rate, \n",
        "                    name = 'movie_dropout')(movie_vec)\n",
        "        \n",
        "# User-Movie score\n",
        "sim = dot([user_vec, movie_vec], \n",
        "          name = 'Simalarity-Dot-Product',axes = 1)\n",
        "\n",
        "# Add a fully-connected hidden layer with relu activation and dropout\n",
        "nn_inp = Dense(fc_layer, \n",
        "               activation = 'relu', \n",
        "               name = 'fc_layer')(sim)\n",
        "nn_inp = Dropout(fc_dropout_rate, \n",
        "                 name = 'fc_dropout')(nn_inp)\n",
        "\n",
        "# Use sigmoid and liner transforms to rescale into range [0.5, 5.5]\n",
        "nn_out = Dense(1, activation = 'sigmoid', \n",
        "               name = 'output_layer',\n",
        "               kernel_regularizer = regularizers.l2(dense_l2))(nn_inp)\n",
        "nn_out = nn_out * (max_rating - min_rating + 1) + min_rating - 0.5\n",
        "\n",
        "# model building\n",
        "nn_model = keras.models.Model([user_input, movie_input], nn_out)\n",
        "nn_model.summary()\n",
        "\n",
        "# model compile with Adam optimizer and MSE loss\n",
        "nn_model.compile(optimizer=Adam(learning_rate=1e-3),\n",
        "                 loss='mse', \n",
        "                 metrics=[rmse])"
      ],
      "metadata": {
        "colab": {
          "base_uri": "https://localhost:8080/"
        },
        "id": "c5AG7DEGhk62",
        "outputId": "022cc237-cb2f-44d9-a84e-ab1145986751"
      },
      "execution_count": 31,
      "outputs": [
        {
          "output_type": "stream",
          "name": "stdout",
          "text": [
            "Model: \"model_1\"\n",
            "__________________________________________________________________________________________________\n",
            " Layer (type)                   Output Shape         Param #     Connected to                     \n",
            "==================================================================================================\n",
            " user_input (InputLayer)        [(None, 1)]          0           []                               \n",
            "                                                                                                  \n",
            " movie_input (InputLayer)       [(None, 1)]          0           []                               \n",
            "                                                                                                  \n",
            " user_embedding (Embedding)     (None, 1, 50)        47150       ['user_input[0][0]']             \n",
            "                                                                                                  \n",
            " movie_embedding (Embedding)    (None, 1, 50)        84100       ['movie_input[0][0]']            \n",
            "                                                                                                  \n",
            " FlattenUsers (Flatten)         (None, 50)           0           ['user_embedding[0][0]']         \n",
            "                                                                                                  \n",
            " FlattenMovies (Flatten)        (None, 50)           0           ['movie_embedding[0][0]']        \n",
            "                                                                                                  \n",
            " user_dropout (Dropout)         (None, 50)           0           ['FlattenUsers[0][0]']           \n",
            "                                                                                                  \n",
            " movie_dropout (Dropout)        (None, 50)           0           ['FlattenMovies[0][0]']          \n",
            "                                                                                                  \n",
            " Simalarity-Dot-Product (Dot)   (None, 1)            0           ['user_dropout[0][0]',           \n",
            "                                                                  'movie_dropout[0][0]']          \n",
            "                                                                                                  \n",
            " fc_layer (Dense)               (None, 96)           192         ['Simalarity-Dot-Product[0][0]'] \n",
            "                                                                                                  \n",
            " fc_dropout (Dropout)           (None, 96)           0           ['fc_layer[0][0]']               \n",
            "                                                                                                  \n",
            " output_layer (Dense)           (None, 1)            97          ['fc_dropout[0][0]']             \n",
            "                                                                                                  \n",
            " tf.math.multiply_1 (TFOpLambda  (None, 1)           0           ['output_layer[0][0]']           \n",
            " )                                                                                                \n",
            "                                                                                                  \n",
            " tf.__operators__.add_1 (TFOpLa  (None, 1)           0           ['tf.math.multiply_1[0][0]']     \n",
            " mbda)                                                                                            \n",
            "                                                                                                  \n",
            " tf.math.subtract_1 (TFOpLambda  (None, 1)           0           ['tf.__operators__.add_1[0][0]'] \n",
            " )                                                                                                \n",
            "                                                                                                  \n",
            "==================================================================================================\n",
            "Total params: 131,539\n",
            "Trainable params: 131,539\n",
            "Non-trainable params: 0\n",
            "__________________________________________________________________________________________________\n"
          ]
        }
      ]
    },
    {
      "cell_type": "code",
      "source": [
        "# model training\n",
        "batch_size=128\n",
        "epochs=50\n",
        "History = nn_model.fit(x = [train.user_id,train.movie_id],\n",
        "                       y = train.rating, \n",
        "                       batch_size = batch_size,\n",
        "                       epochs = epochs, \n",
        "                       validation_data = ([valid.user_id,valid.movie_id],valid.rating),\n",
        "                       verbose = 1)"
      ],
      "metadata": {
        "colab": {
          "base_uri": "https://localhost:8080/"
        },
        "id": "ZQ77AtY7h8sm",
        "outputId": "872018b7-fab2-4cfa-acd8-6ae18a3bc546"
      },
      "execution_count": 32,
      "outputs": [
        {
          "output_type": "stream",
          "name": "stdout",
          "text": [
            "Epoch 1/50\n",
            "500/500 [==============================] - 9s 11ms/step - loss: 1.2664 - rmse: 1.1230 - val_loss: 1.2550 - val_rmse: 1.1124\n",
            "Epoch 2/50\n",
            "500/500 [==============================] - 4s 8ms/step - loss: 1.2238 - rmse: 1.1039 - val_loss: 1.1483 - val_rmse: 1.0638\n",
            "Epoch 3/50\n",
            "500/500 [==============================] - 5s 10ms/step - loss: 0.9819 - rmse: 0.9880 - val_loss: 1.0196 - val_rmse: 1.0026\n",
            "Epoch 4/50\n",
            "500/500 [==============================] - 5s 9ms/step - loss: 0.8456 - rmse: 0.9163 - val_loss: 0.9752 - val_rmse: 0.9803\n",
            "Epoch 5/50\n",
            "500/500 [==============================] - 4s 7ms/step - loss: 0.7731 - rmse: 0.8763 - val_loss: 0.9558 - val_rmse: 0.9700\n",
            "Epoch 6/50\n",
            "500/500 [==============================] - 5s 9ms/step - loss: 0.7328 - rmse: 0.8529 - val_loss: 0.9440 - val_rmse: 0.9642\n",
            "Epoch 7/50\n",
            "500/500 [==============================] - 5s 10ms/step - loss: 0.7066 - rmse: 0.8375 - val_loss: 0.9389 - val_rmse: 0.9618\n",
            "Epoch 8/50\n",
            "500/500 [==============================] - 4s 8ms/step - loss: 0.6822 - rmse: 0.8230 - val_loss: 0.9346 - val_rmse: 0.9594\n",
            "Epoch 9/50\n",
            "500/500 [==============================] - 4s 9ms/step - loss: 0.6636 - rmse: 0.8116 - val_loss: 0.9297 - val_rmse: 0.9568\n",
            "Epoch 10/50\n",
            "500/500 [==============================] - 4s 9ms/step - loss: 0.6528 - rmse: 0.8050 - val_loss: 0.9278 - val_rmse: 0.9559\n",
            "Epoch 11/50\n",
            "500/500 [==============================] - 4s 9ms/step - loss: 0.6459 - rmse: 0.8008 - val_loss: 0.9277 - val_rmse: 0.9558\n",
            "Epoch 12/50\n",
            "500/500 [==============================] - 4s 9ms/step - loss: 0.6310 - rmse: 0.7916 - val_loss: 0.9246 - val_rmse: 0.9543\n",
            "Epoch 13/50\n",
            "500/500 [==============================] - 4s 9ms/step - loss: 0.6266 - rmse: 0.7888 - val_loss: 0.9279 - val_rmse: 0.9559\n",
            "Epoch 14/50\n",
            "500/500 [==============================] - 4s 9ms/step - loss: 0.6208 - rmse: 0.7851 - val_loss: 0.9256 - val_rmse: 0.9548\n",
            "Epoch 15/50\n",
            "500/500 [==============================] - 4s 9ms/step - loss: 0.6077 - rmse: 0.7767 - val_loss: 0.9203 - val_rmse: 0.9522\n",
            "Epoch 16/50\n",
            "500/500 [==============================] - 4s 8ms/step - loss: 0.6102 - rmse: 0.7783 - val_loss: 0.9189 - val_rmse: 0.9514\n",
            "Epoch 17/50\n",
            "500/500 [==============================] - 5s 9ms/step - loss: 0.6017 - rmse: 0.7728 - val_loss: 0.9174 - val_rmse: 0.9509\n",
            "Epoch 18/50\n",
            "500/500 [==============================] - 4s 8ms/step - loss: 0.5942 - rmse: 0.7680 - val_loss: 0.9215 - val_rmse: 0.9527\n",
            "Epoch 19/50\n",
            "500/500 [==============================] - 3s 5ms/step - loss: 0.5961 - rmse: 0.7693 - val_loss: 0.9172 - val_rmse: 0.9507\n",
            "Epoch 20/50\n",
            "500/500 [==============================] - 3s 5ms/step - loss: 0.5910 - rmse: 0.7662 - val_loss: 0.9147 - val_rmse: 0.9496\n",
            "Epoch 21/50\n",
            "500/500 [==============================] - 3s 5ms/step - loss: 0.5875 - rmse: 0.7641 - val_loss: 0.9199 - val_rmse: 0.9521\n",
            "Epoch 22/50\n",
            "500/500 [==============================] - 3s 5ms/step - loss: 0.5880 - rmse: 0.7643 - val_loss: 0.9189 - val_rmse: 0.9515\n",
            "Epoch 23/50\n",
            "500/500 [==============================] - 3s 7ms/step - loss: 0.5815 - rmse: 0.7602 - val_loss: 0.9174 - val_rmse: 0.9509\n",
            "Epoch 24/50\n",
            "500/500 [==============================] - 6s 11ms/step - loss: 0.5817 - rmse: 0.7603 - val_loss: 0.9189 - val_rmse: 0.9516\n",
            "Epoch 25/50\n",
            "500/500 [==============================] - 3s 5ms/step - loss: 0.5774 - rmse: 0.7576 - val_loss: 0.9163 - val_rmse: 0.9505\n",
            "Epoch 26/50\n",
            "500/500 [==============================] - 3s 6ms/step - loss: 0.5755 - rmse: 0.7564 - val_loss: 0.9154 - val_rmse: 0.9501\n",
            "Epoch 27/50\n",
            "500/500 [==============================] - 5s 10ms/step - loss: 0.5726 - rmse: 0.7547 - val_loss: 0.9153 - val_rmse: 0.9500\n",
            "Epoch 28/50\n",
            "500/500 [==============================] - 5s 10ms/step - loss: 0.5704 - rmse: 0.7529 - val_loss: 0.9150 - val_rmse: 0.9498\n",
            "Epoch 29/50\n",
            "500/500 [==============================] - 4s 9ms/step - loss: 0.5717 - rmse: 0.7540 - val_loss: 0.9155 - val_rmse: 0.9502\n",
            "Epoch 30/50\n",
            "500/500 [==============================] - 4s 8ms/step - loss: 0.5672 - rmse: 0.7507 - val_loss: 0.9153 - val_rmse: 0.9503\n",
            "Epoch 31/50\n",
            "500/500 [==============================] - 5s 9ms/step - loss: 0.5628 - rmse: 0.7481 - val_loss: 0.9154 - val_rmse: 0.9502\n",
            "Epoch 32/50\n",
            "500/500 [==============================] - 6s 12ms/step - loss: 0.5568 - rmse: 0.7444 - val_loss: 0.9197 - val_rmse: 0.9523\n",
            "Epoch 33/50\n",
            "500/500 [==============================] - 4s 8ms/step - loss: 0.5651 - rmse: 0.7495 - val_loss: 0.9178 - val_rmse: 0.9513\n",
            "Epoch 34/50\n",
            "500/500 [==============================] - 3s 7ms/step - loss: 0.5572 - rmse: 0.7442 - val_loss: 0.9163 - val_rmse: 0.9507\n",
            "Epoch 35/50\n",
            "500/500 [==============================] - 5s 10ms/step - loss: 0.5616 - rmse: 0.7473 - val_loss: 0.9142 - val_rmse: 0.9494\n",
            "Epoch 36/50\n",
            "500/500 [==============================] - 5s 9ms/step - loss: 0.5577 - rmse: 0.7448 - val_loss: 0.9155 - val_rmse: 0.9501\n",
            "Epoch 37/50\n",
            "500/500 [==============================] - 3s 7ms/step - loss: 0.5596 - rmse: 0.7459 - val_loss: 0.9148 - val_rmse: 0.9496\n",
            "Epoch 38/50\n",
            "500/500 [==============================] - 4s 8ms/step - loss: 0.5493 - rmse: 0.7391 - val_loss: 0.9114 - val_rmse: 0.9479\n",
            "Epoch 39/50\n",
            "500/500 [==============================] - 4s 7ms/step - loss: 0.5532 - rmse: 0.7416 - val_loss: 0.9085 - val_rmse: 0.9466\n",
            "Epoch 40/50\n",
            "500/500 [==============================] - 3s 5ms/step - loss: 0.5570 - rmse: 0.7443 - val_loss: 0.9085 - val_rmse: 0.9466\n",
            "Epoch 41/50\n",
            "500/500 [==============================] - 3s 5ms/step - loss: 0.5547 - rmse: 0.7428 - val_loss: 0.9106 - val_rmse: 0.9476\n",
            "Epoch 42/50\n",
            "500/500 [==============================] - 3s 5ms/step - loss: 0.5499 - rmse: 0.7392 - val_loss: 0.9113 - val_rmse: 0.9479\n",
            "Epoch 43/50\n",
            "500/500 [==============================] - 3s 5ms/step - loss: 0.5522 - rmse: 0.7411 - val_loss: 0.9080 - val_rmse: 0.9465\n",
            "Epoch 44/50\n",
            "500/500 [==============================] - 3s 5ms/step - loss: 0.5493 - rmse: 0.7390 - val_loss: 0.9132 - val_rmse: 0.9489\n",
            "Epoch 45/50\n",
            "500/500 [==============================] - 3s 6ms/step - loss: 0.5500 - rmse: 0.7397 - val_loss: 0.9128 - val_rmse: 0.9486\n",
            "Epoch 46/50\n",
            "500/500 [==============================] - 3s 5ms/step - loss: 0.5449 - rmse: 0.7363 - val_loss: 0.9106 - val_rmse: 0.9476\n",
            "Epoch 47/50\n",
            "500/500 [==============================] - 3s 5ms/step - loss: 0.5443 - rmse: 0.7357 - val_loss: 0.9105 - val_rmse: 0.9474\n",
            "Epoch 48/50\n",
            "500/500 [==============================] - 3s 5ms/step - loss: 0.5473 - rmse: 0.7379 - val_loss: 0.9094 - val_rmse: 0.9468\n",
            "Epoch 49/50\n",
            "500/500 [==============================] - 3s 6ms/step - loss: 0.5441 - rmse: 0.7357 - val_loss: 0.9087 - val_rmse: 0.9466\n",
            "Epoch 50/50\n",
            "500/500 [==============================] - 3s 5ms/step - loss: 0.5469 - rmse: 0.7374 - val_loss: 0.9090 - val_rmse: 0.9466\n"
          ]
        }
      ]
    },
    {
      "cell_type": "code",
      "source": [
        "# # Save the trained model and training history\n",
        "# nn_model.save(os.path.join(output_dir, f'model_k={k}'))\n",
        "\n",
        "# np.save(os.path.join(output_dir, f'history_k={k}.npy'), \n",
        "#         History.history)"
      ],
      "metadata": {
        "colab": {
          "base_uri": "https://localhost:8080/"
        },
        "id": "2FmKYEGdNbeS",
        "outputId": "9bf75ae2-4db0-4a41-ef6e-d4e128505782"
      },
      "execution_count": 33,
      "outputs": [
        {
          "output_type": "stream",
          "name": "stdout",
          "text": [
            "INFO:tensorflow:Assets written to: /content/gdrive/MyDrive/STAT8056/MF_model/model_k=1/assets\n"
          ]
        }
      ]
    },
    {
      "cell_type": "code",
      "source": [
        "# plot the RMSE curves for trian and valid sets\n",
        "plt.subplots(figsize=(10,6.5))\n",
        "plt.plot(History.history['rmse'] , 'g')\n",
        "plt.plot(History.history['val_rmse'] , 'b')\n",
        "plt.title(f'RMSE loss (k={k})')\n",
        "plt.ylabel('loss')\n",
        "plt.xlabel('epoch')\n",
        "plt.legend(['train', 'valid'], loc='upper right')\n",
        "plt.grid(True)\n",
        "plt.show()"
      ],
      "metadata": {
        "colab": {
          "base_uri": "https://localhost:8080/",
          "height": 431
        },
        "id": "4e0_l-Z0jioz",
        "outputId": "8c1af4cd-57a0-4ca9-fd26-4542e0f88444"
      },
      "execution_count": 34,
      "outputs": [
        {
          "output_type": "display_data",
          "data": {
            "text/plain": [
              "<Figure size 720x468 with 1 Axes>"
            ],
            "image/png": "[encoded data removed]"
          },
          "metadata": {
            "needs_background": "light"
          }
        }
      ]
    },
    {
      "cell_type": "code",
      "source": [
        "# Prediction ratings on test set\n",
        "test = ratings_test\n",
        "test_pred = nn_model.predict(x = [test.user_id, test.movie_id], \n",
        "                             batch_size = 1)\n",
        "test['pred'] = pd.DataFrame([float(x) for x in test_pred], columns=['pred'])\n",
        "test_rmse = mean_squared_error(test.rating, test.pred, squared=False) # RMSE\n",
        "print(\"test_rmse = \" + str(test_rmse))"
      ],
      "metadata": {
        "colab": {
          "base_uri": "https://localhost:8080/"
        },
        "id": "EE12N8ZxkXxe",
        "outputId": "0510add4-308a-4711-91ce-dabd0fb913bd"
      },
      "execution_count": 38,
      "outputs": [
        {
          "output_type": "stream",
          "name": "stdout",
          "text": [
            "test_rmse = 0.9783258687069027\n"
          ]
        }
      ]
    },
    {
      "cell_type": "code",
      "source": [
        "# Plot: Histogram of prediction error\n",
        "plt.subplots(figsize=(10, 6.5))\n",
        "plt.hist(test['pred'] - test['rating'])\n",
        "plt.title(f'k={k}, RMSE={test_rmse:.5f}')\n",
        "plt.show()"
      ],
      "metadata": {
        "colab": {
          "base_uri": "https://localhost:8080/",
          "height": 417
        },
        "id": "2q5hz6R_QHC7",
        "outputId": "ce740805-cc02-4f5d-ffff-16e99c10cca7"
      },
      "execution_count": 39,
      "outputs": [
        {
          "output_type": "display_data",
          "data": {
            "text/plain": [
              "<Figure size 720x468 with 1 Axes>"
            ],
            "image/png": "[encoded data removed]"
          },
          "metadata": {
            "needs_background": "light"
          }
        }
      ]
    },
    {
      "cell_type": "code",
      "source": [
        "# Save the predictions\n",
        "# np.save(os.path.join(output_dir, f'predict_k={k}.npy'), \n",
        "#         test['pred'])"
      ],
      "metadata": {
        "id": "Uzrr8ID9OVdH"
      },
      "execution_count": 40,
      "outputs": []
    }
  ]
}